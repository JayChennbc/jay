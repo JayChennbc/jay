{
 "cells": [
  {
   "cell_type": "code",
   "execution_count": 134,
   "id": "a3d09ce1-5131-44bb-8481-03a6878e716a",
   "metadata": {},
   "outputs": [],
   "source": [
    "import numpy as np"
   ]
  },
  {
   "cell_type": "code",
   "execution_count": 21,
   "id": "b75d828e-46c8-44ad-8313-f9589f3b02c9",
   "metadata": {},
   "outputs": [
    {
     "name": "stdout",
     "output_type": "stream",
     "text": [
      "[ 80 108  36  48 124  68  16 200 156 140]\n",
      "24.4\n",
      "23.5\n",
      "13.828955130450023\n",
      "index of smallest number = 6\n",
      "index of biggest number = 7\n",
      "smallest number = 4\n",
      "biggest number = 50\n",
      "min = 4\n",
      "max = 50\n",
      "[27 31 50 39 35]\n"
     ]
    }
   ],
   "source": [
    "#3.1 --- 1D Numpy Arrays ---\n",
    "list = [20, 27, 9, 12, 31, 17, 4, 50, 39, 35]\n",
    "arr=np.array(list)\n",
    "print(arr*4)\n",
    "print(np.mean(list))\n",
    "print(np.median(list))\n",
    "print(np.std(list))\n",
    "print(\"index of smallest number =\", (np.argmin(arr)))\n",
    "print(\"index of biggest number =\", (np.argmax(arr)))\n",
    "print(\"smallest number =\", arr[6])\n",
    "print(\"biggest number =\", arr[7])\n",
    "print(\"min =\", np.min(arr))\n",
    "print(\"max =\", np.max(arr)) #values for min and max match\n",
    "mask = arr>20\n",
    "arr_bigger20 = arr[mask]\n",
    "print(f'{arr_bigger20}')"
   ]
  },
  {
   "cell_type": "code",
   "execution_count": 63,
   "id": "733a5368-0ff5-4e1b-99b1-f5b180bc0001",
   "metadata": {},
   "outputs": [
    {
     "name": "stdout",
     "output_type": "stream",
     "text": [
      "(3, 4)\n",
      "[17 14 19]\n",
      "[ 8 21 14  3]\n",
      "[[10 24 34 18]\n",
      " [16 42 28  6]\n",
      " [12 26 38 22]]\n",
      "[ 6.33333333 15.33333333 16.66666667  7.66666667]\n",
      "11.5\n",
      "max value row = [17 21 19]\n",
      "min value column = [ 5 12 14  3]\n",
      "[ 5 12 17  9  8 21 14  3  6 13 19 11]\n",
      "shape of flattened matrix = (12,)\n",
      "index of min = 7\n",
      "index of max = 5\n",
      "(np.int64(1), np.int64(3))\n",
      "(np.int64(1), np.int64(1))\n",
      "matrix greater than 15 = [17 21 19]\n",
      "sorted arrmatrix_15up = [17 19 21]\n"
     ]
    }
   ],
   "source": [
    "#3.2 --- 2D Numpy Arrays ---\n",
    "matrix = [\n",
    "    [5, 12, 17, 9],\n",
    "    [8, 21, 14, 3],\n",
    "    [6, 13, 19, 11]\n",
    "]\n",
    "arrmatrix = np.array(matrix)\n",
    "print(np.shape(matrix))  # 3 rows, 4 columns\n",
    "print(arrmatrix[:,2])\n",
    "print(arrmatrix[1,:])\n",
    "print(arrmatrix*2)\n",
    "print(np.mean(arrmatrix, axis = 0))\n",
    "print(np.mean(arrmatrix))\n",
    "print(\"max value row =\", np.max(arrmatrix, axis=1))\n",
    "print(\"min value column =\", np.min(arrmatrix, axis=0))\n",
    "newmatrix=arrmatrix.flatten()\n",
    "print(newmatrix)\n",
    "print(\"shape of flattened matrix =\", np.shape(newmatrix))\n",
    "#all 12 items were moved to one row, but the 12 is written as the first # in given tuple\n",
    "print(\"index of min =\", np.argmin(newmatrix))\n",
    "print(\"index of max =\", np.argmax(newmatrix))\n",
    "print(np.unravel_index(7, (3, 4)))\n",
    "print(np.unravel_index(5, (3, 4)))\n",
    "mask = arrmatrix>15\n",
    "arrmatrix_15up = arrmatrix[mask]\n",
    "print(\"matrix greater than 15 =\", arrmatrix_15up)\n",
    "print(\"sorted arrmatrix_15up =\", np.sort(arrmatrix_15up))"
   ]
  },
  {
   "cell_type": "code",
   "execution_count": 77,
   "id": "fbfc32ed-ad81-4995-a991-ff28021b19d8",
   "metadata": {},
   "outputs": [
    {
     "name": "stdout",
     "output_type": "stream",
     "text": [
      "[array([2, 3, 5]), array([11, 13, 17]), array([ 7, 10, 13])]\n"
     ]
    }
   ],
   "source": [
    "#4 --- Prime Star Systems ---\n",
    "arr = np.array([\n",
    "    [2, 3, 5],\n",
    "    [14, 6, 8],\n",
    "    [11, 13, 17],\n",
    "    [7, 10, 13]\n",
    "])\n",
    "def primeinrow(list):\n",
    "    def prime_number(n):\n",
    "        if n<2:\n",
    "            return False\n",
    "        for i in range(2, int(n**0.5)+1):  #+1 since last value is exclusive\n",
    "            if n%i == 0:\n",
    "                return False\n",
    "            else:\n",
    "                return True\n",
    "    for a in list:\n",
    "        if prime_number(a):\n",
    "            return True\n",
    "\n",
    "def find_rows_prime(arr):\n",
    "    rows_prime = []\n",
    "    for row in arr:\n",
    "        if primeinrow(row):\n",
    "            rows_prime.append(row)\n",
    "    return(print(rows_prime))\n",
    "find_rows_prime(arr)\n",
    "    "
   ]
  },
  {
   "cell_type": "code",
   "execution_count": 106,
   "id": "ac584cb4-7600-4326-9348-4343e763c618",
   "metadata": {},
   "outputs": [
    {
     "name": "stdout",
     "output_type": "stream",
     "text": [
      "[[0. 0. 0. 0. 0. 0. 0. 0.]\n",
      " [0. 0. 0. 0. 0. 0. 0. 0.]\n",
      " [0. 0. 0. 0. 0. 0. 0. 0.]\n",
      " [0. 0. 0. 0. 0. 0. 0. 0.]\n",
      " [0. 0. 0. 0. 0. 0. 0. 0.]\n",
      " [0. 0. 0. 0. 0. 0. 0. 0.]\n",
      " [0. 0. 0. 0. 0. 0. 0. 0.]\n",
      " [0. 0. 0. 0. 0. 0. 0. 0.]]\n",
      "[[1. 0. 1. 0. 1. 0. 1. 0.]\n",
      " [0. 1. 0. 1. 0. 1. 0. 1.]\n",
      " [1. 0. 1. 0. 1. 0. 1. 0.]\n",
      " [0. 1. 0. 1. 0. 1. 0. 1.]\n",
      " [1. 0. 1. 0. 1. 0. 1. 0.]\n",
      " [0. 1. 0. 1. 0. 1. 0. 1.]\n",
      " [1. 0. 1. 0. 1. 0. 1. 0.]\n",
      " [0. 1. 0. 1. 0. 1. 0. 1.]]\n",
      "[[0. 1. 0. 1. 0. 1. 0. 1.]\n",
      " [1. 0. 1. 0. 1. 0. 1. 0.]\n",
      " [0. 1. 0. 1. 0. 1. 0. 1.]\n",
      " [1. 0. 1. 0. 1. 0. 1. 0.]\n",
      " [0. 1. 0. 1. 0. 1. 0. 1.]\n",
      " [1. 0. 1. 0. 1. 0. 1. 0.]\n",
      " [0. 1. 0. 1. 0. 1. 0. 1.]\n",
      " [1. 0. 1. 0. 1. 0. 1. 0.]]\n"
     ]
    }
   ],
   "source": [
    "#5 --- Let's Play Checkers ---\n",
    "#5.1\n",
    "def zero_checkerboard():\n",
    "    print(np.zeros((8,8)))\n",
    "zero_checkerboard()\n",
    "#5.2 and 5.3 --- Checkerboard\n",
    "arr=np.zeros((8,8))\n",
    "for i in range(arr.shape[0]):  #rows index\n",
    "    for j in range(arr.shape[1]):  #columns index\n",
    "        if (i+j) %2 ==0:\n",
    "            arr[i][j] = 1\n",
    "print(arr)\n",
    "\n",
    "#5.4 --- Reverse Checkerboard\n",
    "arr2=np.zeros((8,8))\n",
    "for i in range(arr2.shape[0]):  #rows index\n",
    "    for j in range(arr2.shape[1]):  #columns index\n",
    "        if (i+j) %2 !=0:\n",
    "            arr2[i][j] = 1\n",
    "print(arr2)"
   ]
  },
  {
   "cell_type": "code",
   "execution_count": 151,
   "id": "a2346109-88a4-4adc-80a8-fe73a9679d5c",
   "metadata": {},
   "outputs": [
    {
     "data": {
      "text/plain": [
       "'h   e   l   l   o'"
      ]
     },
     "execution_count": 151,
     "metadata": {},
     "output_type": "execute_result"
    }
   ],
   "source": [
    "#6 --- The Expanding Universe ---\n",
    "# universe = np.array(['galaxy', 'clusters'])\n",
    "\n",
    "# def expansion(list[universe], x):\n",
    "#     for c in list[universe]:\n",
    "#         universe.join(c+\" \"*x)\n",
    "# print(expansion(unviverse, 2))\n",
    "\n",
    "# from builtins import list\n",
    "# def expand(str,n):\n",
    "#     strlist=list(str)\n",
    "#     expandedlist=[]\n",
    "#     for i in range(len(strlist)):\n",
    "#         expandedlist.append(strlist[i])\n",
    "#         if i < len(strlist)-1:\n",
    "#             for j in range(n):\n",
    "#                 expandedlist.append(\" \")\n",
    "#     expandedlist=\"\".join(expandedlist)\n",
    "#     return expandedlist\n",
    "\n",
    "def expanding(word,n):\n",
    "    word_listed=list(word)\n",
    "    expand_list=[]\n",
    "    for i in range(len(word_listed)):\n",
    "        expand_list.append(word_listed[i])\n",
    "        if i < len(word_listed)-1:\n",
    "            for j in range(n):\n",
    "                expand_list.append(\" \")\n",
    "    expand_list=\"\".join(expand_list)\n",
    "    return expand_list\n",
    "expanding(word=\"hello\", n=3)"
   ]
  },
  {
   "cell_type": "code",
   "execution_count": 139,
   "id": "f3179514-8380-4f8f-a6c1-12fa43e6023b",
   "metadata": {},
   "outputs": [
    {
     "name": "stdout",
     "output_type": "stream",
     "text": [
      "[[1889 1906 1846 1622 1541]\n",
      " [ 606 1647 1738  596  613]\n",
      " [1138  547  573 1442  724]\n",
      " [ 611 1933 1863 1346 1777]\n",
      " [ 920 1108 1732 1592  951]]\n",
      "[np.int32(1889), np.int32(1647), np.int32(1138), np.int32(1863), np.int32(1592)]\n"
     ]
    }
   ],
   "source": [
    "#7 --- Second-Brightest Star ---\n",
    "np.random.seed(123)\n",
    "stars=np.random.randint(500, 2000, (5,5))\n",
    "print(stars)\n",
    "\n",
    "def second_brightest_star(stars):\n",
    "    second_brightest_numbers = []\n",
    "    for row in stars:\n",
    "        sorted_row = np.sort(row)\n",
    "        second_brightest_numbers.append(sorted_row[3])\n",
    "    return(print(second_brightest_numbers))\n",
    "second_brightest_star(stars)"
   ]
  },
  {
   "cell_type": "code",
   "execution_count": null,
   "id": "effb8dde-9ed3-4697-ab15-dab5637f69d2",
   "metadata": {},
   "outputs": [],
   "source": []
  }
 ],
 "metadata": {
  "kernelspec": {
   "display_name": "Python [conda env:base] *",
   "language": "python",
   "name": "conda-base-py"
  },
  "language_info": {
   "codemirror_mode": {
    "name": "ipython",
    "version": 3
   },
   "file_extension": ".py",
   "mimetype": "text/x-python",
   "name": "python",
   "nbconvert_exporter": "python",
   "pygments_lexer": "ipython3",
   "version": "3.13.5"
  }
 },
 "nbformat": 4,
 "nbformat_minor": 5
}
